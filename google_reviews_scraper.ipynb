{
 "cells": [
  {
   "cell_type": "code",
   "execution_count": 1,
   "metadata": {},
   "outputs": [],
   "source": [
    "import pandas as pd    \n",
    "from bs4 import BeautifulSoup\n",
    "from selenium import webdriver\n",
    "from selenium.webdriver.chrome.service import Service\n",
    "from webdriver_manager.chrome import ChromeDriverManager\n",
    "from selenium.webdriver.support.ui import WebDriverWait\n",
    "from selenium.webdriver.support import expected_conditions as EC\n",
    "from selenium.webdriver.common.by import By\n",
    "import time"
   ]
  },
  {
   "cell_type": "code",
   "execution_count": 2,
   "metadata": {},
   "outputs": [
    {
     "name": "stdout",
     "output_type": "stream",
     "text": [
      "\n"
     ]
    },
    {
     "name": "stderr",
     "output_type": "stream",
     "text": [
      "[WDM] - ====== WebDriver manager ======\n"
     ]
    },
    {
     "name": "stdout",
     "output_type": "stream",
     "text": [
      "2022-10-27 04:16:08,781 INFO ====== WebDriver manager ======\n"
     ]
    },
    {
     "name": "stderr",
     "output_type": "stream",
     "text": [
      "[WDM] - Current google-chrome version is 107.0.5304\n"
     ]
    },
    {
     "name": "stdout",
     "output_type": "stream",
     "text": [
      "2022-10-27 04:16:08,886 INFO Current google-chrome version is 107.0.5304\n"
     ]
    },
    {
     "name": "stderr",
     "output_type": "stream",
     "text": [
      "[WDM] - Get LATEST chromedriver version for 107.0.5304 google-chrome\n"
     ]
    },
    {
     "name": "stdout",
     "output_type": "stream",
     "text": [
      "2022-10-27 04:16:08,887 INFO Get LATEST chromedriver version for 107.0.5304 google-chrome\n"
     ]
    },
    {
     "name": "stderr",
     "output_type": "stream",
     "text": [
      "[WDM] - Driver [/Users/rohitvenkat/.wdm/drivers/chromedriver/mac64/107.0.5304.62/chromedriver] found in cache\n"
     ]
    },
    {
     "name": "stdout",
     "output_type": "stream",
     "text": [
      "2022-10-27 04:16:08,991 INFO Driver [/Users/rohitvenkat/.wdm/drivers/chromedriver/mac64/107.0.5304.62/chromedriver] found in cache\n"
     ]
    }
   ],
   "source": [
    "# Launch web driver\n",
    "driver = webdriver.Chrome(service=Service(ChromeDriverManager().install()))"
   ]
  },
  {
   "cell_type": "code",
   "execution_count": 3,
   "metadata": {},
   "outputs": [],
   "source": [
    "# Load google maps url\n",
    "url = 'https://www.google.com/maps/search/?api=1&query=Google&query_place_id=ChIJIS56-XFmZIgRsvTzijiFReo'\n",
    "driver.get(url)\n",
    "\n",
    "# Click reviews link\n",
    "driver.find_element('xpath', '//*[@id=\"QA0Szd\"]/div/div/div[1]/div[2]/div/div[1]/div/div/div[2]/div[1]/div[1]/div[2]/div/div[1]/div[2]/span[2]/span[1]/button').click()\n",
    "time.sleep(5)\n",
    "\n",
    "# Click sort button\n",
    "wait = WebDriverWait(driver, 10)\n",
    "menu_bt = wait.until(EC.element_to_be_clickable((By.XPATH, '//button[@data-value=\\'Sort\\']')))  \n",
    "menu_bt.click()\n",
    "\n",
    "# Sort by newest reviews\n",
    "recent_rating_bt = driver.find_elements('xpath', '//li[@data-index=\\'1\\']')[0]\n",
    "recent_rating_bt.click()\n",
    "time.sleep(5)"
   ]
  },
  {
   "cell_type": "code",
   "execution_count": 4,
   "metadata": {},
   "outputs": [],
   "source": [
    "# Parse html page\n",
    "response = BeautifulSoup(driver.page_source, 'html.parser')\n",
    "\n",
    "# Find total number of reviews\n",
    "total_reviews = int(response.find('div', class_ = 'fontBodySmall').text.replace(' reviews', ''))\n",
    "\n",
    "# Find scroll layout\n",
    "scrollable_div = driver.find_element('xpath', '//*[@id=\"QA0Szd\"]/div/div/div[1]/div[2]/div/div[1]/div/div/div[2]')\n",
    "\n",
    "# Scroll as many times as necessary to load all reviews\n",
    "for i in range(0, (round(total_reviews / 5 - 1))):\n",
    "        driver.execute_script('arguments[0].scrollTop = arguments[0].scrollHeight', scrollable_div)\n",
    "        time.sleep(1)"
   ]
  },
  {
   "cell_type": "code",
   "execution_count": 5,
   "metadata": {},
   "outputs": [],
   "source": [
    "# Re-parse html page after loading all reviews\n",
    "response = BeautifulSoup(driver.page_source, 'html.parser')"
   ]
  },
  {
   "cell_type": "code",
   "execution_count": 6,
   "metadata": {},
   "outputs": [],
   "source": [
    "# Extract reviews\n",
    "review_ids = [review_id['data-review-id'] for review_id in response.findAll('div', class_= 'jftiEf')]\n",
    "review_dates = [review_date.text for review_date in response.findAll('span', class_ = 'rsqaWe')]\n",
    "reviewers = [reviewer['aria-label'] for reviewer in response.findAll('div', class_= 'jftiEf')]\n",
    "ratings = [rating['aria-label'].strip() for rating in response.findAll('span', class_ = 'kvMYJc')]\n",
    "review_texts = [review_text.text for review_text in response.findAll('span', class_ = 'wiI7pd')]"
   ]
  },
  {
   "cell_type": "code",
   "execution_count": 7,
   "metadata": {},
   "outputs": [],
   "source": [
    "# Create reviews df\n",
    "reviews = pd.DataFrame(\n",
    "    data = {\n",
    "        'review_id': review_ids,\n",
    "        'date': review_dates,\n",
    "        'reviewer': reviewers,\n",
    "        'rating': ratings,\n",
    "        'text': review_texts\n",
    "    }\n",
    ")"
   ]
  },
  {
   "cell_type": "code",
   "execution_count": 8,
   "metadata": {},
   "outputs": [
    {
     "data": {
      "text/html": [
       "<div>\n",
       "<style scoped>\n",
       "    .dataframe tbody tr th:only-of-type {\n",
       "        vertical-align: middle;\n",
       "    }\n",
       "\n",
       "    .dataframe tbody tr th {\n",
       "        vertical-align: top;\n",
       "    }\n",
       "\n",
       "    .dataframe thead th {\n",
       "        text-align: right;\n",
       "    }\n",
       "</style>\n",
       "<table border=\"1\" class=\"dataframe\">\n",
       "  <thead>\n",
       "    <tr style=\"text-align: right;\">\n",
       "      <th></th>\n",
       "      <th>review_id</th>\n",
       "      <th>date</th>\n",
       "      <th>reviewer</th>\n",
       "      <th>rating</th>\n",
       "      <th>text</th>\n",
       "    </tr>\n",
       "  </thead>\n",
       "  <tbody>\n",
       "    <tr>\n",
       "      <th>0</th>\n",
       "      <td>ChZDSUhNMG9nS0VJQ0FnSURlN19fR1RBEAE</td>\n",
       "      <td>4 days ago</td>\n",
       "      <td>Ana</td>\n",
       "      <td>5 stars</td>\n",
       "      <td>This is a great place, great drinks, great mus...</td>\n",
       "    </tr>\n",
       "    <tr>\n",
       "      <th>1</th>\n",
       "      <td>ChdDSUhNMG9nS0VJQ0FnSURlbVltV2xnRRAB</td>\n",
       "      <td>a week ago</td>\n",
       "      <td>Pemberton Heath</td>\n",
       "      <td>5 stars</td>\n",
       "      <td>Awesome bar, incredible restaurant</td>\n",
       "    </tr>\n",
       "    <tr>\n",
       "      <th>2</th>\n",
       "      <td>ChRDSUhNMG9nS0VJQ0FnSURlaFBGchAB</td>\n",
       "      <td>3 weeks ago</td>\n",
       "      <td>Shelley Ingham</td>\n",
       "      <td>5 stars</td>\n",
       "      <td>The nachos are amazing</td>\n",
       "    </tr>\n",
       "    <tr>\n",
       "      <th>3</th>\n",
       "      <td>ChZDSUhNMG9nS0VJQ0FnSUNleW82eGFBEAE</td>\n",
       "      <td>a month ago</td>\n",
       "      <td>Amy Garten</td>\n",
       "      <td>5 stars</td>\n",
       "      <td></td>\n",
       "    </tr>\n",
       "    <tr>\n",
       "      <th>4</th>\n",
       "      <td>ChdDSUhNMG9nS0VJQ0FnSUNlaU1pejFBRRAB</td>\n",
       "      <td>a month ago</td>\n",
       "      <td>Alfredo arguello</td>\n",
       "      <td>5 stars</td>\n",
       "      <td>Bastion is an outstanding culinary experience ...</td>\n",
       "    </tr>\n",
       "  </tbody>\n",
       "</table>\n",
       "</div>"
      ],
      "text/plain": [
       "                              review_id         date          reviewer  \\\n",
       "0   ChZDSUhNMG9nS0VJQ0FnSURlN19fR1RBEAE   4 days ago               Ana   \n",
       "1  ChdDSUhNMG9nS0VJQ0FnSURlbVltV2xnRRAB   a week ago   Pemberton Heath   \n",
       "2      ChRDSUhNMG9nS0VJQ0FnSURlaFBGchAB  3 weeks ago    Shelley Ingham   \n",
       "3   ChZDSUhNMG9nS0VJQ0FnSUNleW82eGFBEAE  a month ago        Amy Garten   \n",
       "4  ChdDSUhNMG9nS0VJQ0FnSUNlaU1pejFBRRAB  a month ago  Alfredo arguello   \n",
       "\n",
       "    rating                                               text  \n",
       "0  5 stars  This is a great place, great drinks, great mus...  \n",
       "1  5 stars                 Awesome bar, incredible restaurant  \n",
       "2  5 stars                             The nachos are amazing  \n",
       "3  5 stars                                                     \n",
       "4  5 stars  Bastion is an outstanding culinary experience ...  "
      ]
     },
     "execution_count": 8,
     "metadata": {},
     "output_type": "execute_result"
    }
   ],
   "source": [
    "reviews.head()"
   ]
  },
  {
   "cell_type": "markdown",
   "metadata": {},
   "source": [
    "TODO:\n",
    "- Extract reviewer ID\n",
    "- Extract exact date\n",
    "- Extract full text"
   ]
  }
 ],
 "metadata": {
  "kernelspec": {
   "display_name": "Python 3.8.13 ('base')",
   "language": "python",
   "name": "python3"
  },
  "language_info": {
   "codemirror_mode": {
    "name": "ipython",
    "version": 3
   },
   "file_extension": ".py",
   "mimetype": "text/x-python",
   "name": "python",
   "nbconvert_exporter": "python",
   "pygments_lexer": "ipython3",
   "version": "3.8.13"
  },
  "orig_nbformat": 4,
  "vscode": {
   "interpreter": {
    "hash": "3d6140ef0c675026b0200147df87972487ebc0097827c4c765c9e0dcd9cf7b2f"
   }
  }
 },
 "nbformat": 4,
 "nbformat_minor": 2
}
